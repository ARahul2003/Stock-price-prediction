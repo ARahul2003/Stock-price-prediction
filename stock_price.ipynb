{
  "nbformat": 4,
  "nbformat_minor": 0,
  "metadata": {
    "colab": {
      "name": "stock_price.ipynb",
      "provenance": [],
      "collapsed_sections": [],
      "authorship_tag": "ABX9TyPJJjkEyk7U8aK1ZrNdMsd8",
      "include_colab_link": true
    },
    "kernelspec": {
      "name": "python3",
      "display_name": "Python 3"
    },
    "language_info": {
      "name": "python"
    }
  },
  "cells": [
    {
      "cell_type": "markdown",
      "metadata": {
        "id": "view-in-github",
        "colab_type": "text"
      },
      "source": [
        "<a href=\"https://colab.research.google.com/github/ARahul2003/Stock-price-prediction/blob/main/stock_price.ipynb\" target=\"_parent\"><img src=\"https://colab.research.google.com/assets/colab-badge.svg\" alt=\"Open In Colab\"/></a>"
      ]
    },
    {
      "cell_type": "code",
      "execution_count": 2,
      "metadata": {
        "colab": {
          "base_uri": "https://localhost:8080/"
        },
        "id": "QpSsPA-GmmWr",
        "outputId": "a02ef437-b6b0-4977-dc8b-ceda08a8322d"
      },
      "outputs": [
        {
          "output_type": "stream",
          "name": "stdout",
          "text": [
            "Collecting quandl\n",
            "  Downloading Quandl-3.7.0-py2.py3-none-any.whl (26 kB)\n",
            "Requirement already satisfied: six in /usr/local/lib/python3.7/dist-packages (from quandl) (1.15.0)\n",
            "Requirement already satisfied: more-itertools in /usr/local/lib/python3.7/dist-packages (from quandl) (8.12.0)\n",
            "Requirement already satisfied: pandas>=0.14 in /usr/local/lib/python3.7/dist-packages (from quandl) (1.1.5)\n",
            "Requirement already satisfied: numpy>=1.8 in /usr/local/lib/python3.7/dist-packages (from quandl) (1.19.5)\n",
            "Collecting inflection>=0.3.1\n",
            "  Downloading inflection-0.5.1-py2.py3-none-any.whl (9.5 kB)\n",
            "Requirement already satisfied: requests>=2.7.0 in /usr/local/lib/python3.7/dist-packages (from quandl) (2.23.0)\n",
            "Requirement already satisfied: python-dateutil in /usr/local/lib/python3.7/dist-packages (from quandl) (2.8.2)\n",
            "Requirement already satisfied: pytz>=2017.2 in /usr/local/lib/python3.7/dist-packages (from pandas>=0.14->quandl) (2018.9)\n",
            "Requirement already satisfied: idna<3,>=2.5 in /usr/local/lib/python3.7/dist-packages (from requests>=2.7.0->quandl) (2.10)\n",
            "Requirement already satisfied: chardet<4,>=3.0.2 in /usr/local/lib/python3.7/dist-packages (from requests>=2.7.0->quandl) (3.0.4)\n",
            "Requirement already satisfied: certifi>=2017.4.17 in /usr/local/lib/python3.7/dist-packages (from requests>=2.7.0->quandl) (2021.10.8)\n",
            "Requirement already satisfied: urllib3!=1.25.0,!=1.25.1,<1.26,>=1.21.1 in /usr/local/lib/python3.7/dist-packages (from requests>=2.7.0->quandl) (1.24.3)\n",
            "Installing collected packages: inflection, quandl\n",
            "Successfully installed inflection-0.5.1 quandl-3.7.0\n"
          ]
        }
      ],
      "source": [
        "pip install quandl"
      ]
    },
    {
      "cell_type": "code",
      "source": [
        "#This program predicts stock prices by using Machine Learning models\n",
        "\n",
        "#Installing the dependencies\n",
        "import quandl\n",
        "import numpy as np\n",
        "from sklearn.linear_model import LinearRegression\n",
        "from sklearn.svm import SVR #Support Vector Regressor\n",
        "from sklearn.model_selection import train_test_split\n"
      ],
      "metadata": {
        "id": "KgiJJbT3m3r5"
      },
      "execution_count": 3,
      "outputs": []
    },
    {
      "cell_type": "code",
      "source": [
        "#Get the stock data\n",
        "df = quandl.get(\"WIKI/FB\") \n",
        "#We are using quandl package to get the stock data of facebook using an API and directly forming a \n",
        "#data frame from it\n",
        "\n",
        "#Taking a look at the data\n",
        "print(df.head())\n"
      ],
      "metadata": {
        "id": "zsDi376xnup6"
      },
      "execution_count": null,
      "outputs": []
    },
    {
      "cell_type": "code",
      "source": [
        "#Get the adjusted clode price\n",
        "\n",
        "df = df[['Adj. Close']]\n",
        "\n",
        "#Take a look at the new data\n",
        "print(df.head())"
      ],
      "metadata": {
        "id": "z1CpzQSEor1c"
      },
      "execution_count": null,
      "outputs": []
    },
    {
      "cell_type": "code",
      "source": [
        "#How many days into the future do you want to predict the stock value\n",
        "#A variable for predicting 'n' days out into the future\n",
        "forecast_out = 1 \n",
        "\n",
        "#Create another column (the target or dependent variable) shifted 'n' units up.\n",
        "#This will give us 2 tables, the original df, and another one which corresponds to the value of\n",
        "#the stock 'n' days into the future. We then calculate the correlation between these two tables\n",
        "#and predict the price of the stock in the future.\n",
        "\n",
        "#shift it up by 'forecast_out' days\n",
        "df['Prediction'] = df[['Adj. Close']].shift(-forecast_out) \n",
        "\n",
        "#print the new data set. You will notice that you have created some empty (NaN) values at the end of the\n",
        "#tail of the table. We need to remove this from our dataset.\n",
        "print(df.head())\n",
        "print(df.tail())"
      ],
      "metadata": {
        "id": "KKjKo3MspAqs"
      },
      "execution_count": null,
      "outputs": []
    },
    {
      "cell_type": "code",
      "source": [
        "#Create the independent data set (x)\n",
        "#Convert the datafra,e into a numpy array\n",
        "X = np.array(df.drop(['Prediction'], 1))\n",
        "\n",
        "#Remove the last 'n' rows\n",
        "X = X[:-forecast_out]\n",
        "print(X)"
      ],
      "metadata": {
        "id": "36XYqVoLr_R7"
      },
      "execution_count": null,
      "outputs": []
    },
    {
      "cell_type": "code",
      "source": [
        "#Create the dependent data set (y)\n",
        "#Convert the dataframe to a numpy array (All the values including the NaNs)\n",
        "y = np.array(df['Prediction'])\n",
        "\n",
        "#Get all the values in y except for the last 'n' days\n",
        "y = y[:-forecast_out]\n",
        "print(y)"
      ],
      "metadata": {
        "colab": {
          "base_uri": "https://localhost:8080/"
        },
        "id": "5judPKmjs10a",
        "outputId": "5cb5ffd5-ebe4-44af-cc80-8397e89a7aa5"
      },
      "execution_count": 15,
      "outputs": [
        {
          "output_type": "stream",
          "name": "stdout",
          "text": [
            "[ 34.03  31.    32.   ... 159.39 160.06 152.19]\n"
          ]
        }
      ]
    },
    {
      "cell_type": "code",
      "source": [
        "#Split the data into 80 percent training and 20 percent testing\n",
        "x_train, x_test, y_train, y_test = train_test_split(X, y, test_size = 0.2)"
      ],
      "metadata": {
        "id": "3OU6JKOEuAg3"
      },
      "execution_count": 17,
      "outputs": []
    },
    {
      "cell_type": "code",
      "source": [
        "#Create and train the Support Vector Machine (Regressor/Classifier)\n",
        "svr_rbf = SVR(kernel = 'rbf', C = 1e3, gamma = 0.1)\n",
        "svr_rbf.fit(x_train, y_train)"
      ],
      "metadata": {
        "colab": {
          "base_uri": "https://localhost:8080/"
        },
        "id": "LMvFp3zLunnU",
        "outputId": "63700512-3c44-46fa-888a-58d433a96f8f"
      },
      "execution_count": 18,
      "outputs": [
        {
          "output_type": "execute_result",
          "data": {
            "text/plain": [
              "SVR(C=1000.0, gamma=0.1)"
            ]
          },
          "metadata": {},
          "execution_count": 18
        }
      ]
    },
    {
      "cell_type": "code",
      "source": [
        "#Testing the SVM model...\n",
        "#Score returns the coefficient of determination R^2 of the prediction.\n",
        "#The best possible score is 1.0\n",
        "svm_confidence = svr_rbf.score(x_test, y_test)\n",
        "print(\"SVM confidence: \", svm_confidence)"
      ],
      "metadata": {
        "colab": {
          "base_uri": "https://localhost:8080/"
        },
        "id": "xfHCTbRzvuYC",
        "outputId": "1e036552-2b81-4422-f963-2ae828aaa64f"
      },
      "execution_count": 23,
      "outputs": [
        {
          "output_type": "stream",
          "name": "stdout",
          "text": [
            "SVM confidence:  0.9984886331652639\n"
          ]
        }
      ]
    },
    {
      "cell_type": "code",
      "source": [
        "#Create and train the Linear Regression Model\n",
        "LR = LinearRegression()\n",
        "\n",
        "#Train the model\n",
        "LR.fit(x_train, y_train)"
      ],
      "metadata": {
        "id": "E9qVH-C7wXIm"
      },
      "execution_count": null,
      "outputs": []
    },
    {
      "cell_type": "code",
      "source": [
        "#Testing the Linear Regression Model...\n",
        "#Score returns the coefficient of determination R^2 of the prediction.\n",
        "#The best possible score is 1.0\n",
        "LR_confidence = LR.score(x_test, y_test)\n",
        "print(\"Linear Regression Confidence: \", LR_confidence)"
      ],
      "metadata": {
        "colab": {
          "base_uri": "https://localhost:8080/"
        },
        "id": "dVQSj7T-wyLz",
        "outputId": "cb94ed90-3216-46dc-8ee8-984226183a2e"
      },
      "execution_count": 22,
      "outputs": [
        {
          "output_type": "stream",
          "name": "stdout",
          "text": [
            "Linear Regression Confidence:  0.99858433872781\n"
          ]
        }
      ]
    },
    {
      "cell_type": "code",
      "source": [
        "#Set x_forecast equal to the last 30 rows of the original data set from Adj. Close column\n",
        "x_forecast = np.array(df.drop(['Prediction'], 1))[-forecast_out:]\n",
        "print(x_forecast)"
      ],
      "metadata": {
        "colab": {
          "base_uri": "https://localhost:8080/"
        },
        "id": "X2apfmdkxx7S",
        "outputId": "8500e64c-a39f-49d8-fe19-8482435ca9aa"
      },
      "execution_count": 26,
      "outputs": [
        {
          "output_type": "stream",
          "name": "stdout",
          "text": [
            "[[152.19]]\n"
          ]
        }
      ]
    },
    {
      "cell_type": "code",
      "source": [
        "#Print Linear Regression Model prediction for the next 'n' days\n",
        "LR_prediction = LR.predict(x_forecast)\n",
        "print(LR_prediction, \"\\n\")\n",
        "\n",
        "#Print SVM Model prediction for the next 'n' days\n",
        "SVM_prediction = svr_rbf.predict(x_forecast)\n",
        "print(SVM_prediction)"
      ],
      "metadata": {
        "colab": {
          "base_uri": "https://localhost:8080/"
        },
        "id": "73vteLEQyRdB",
        "outputId": "22cf6bc7-b423-41de-b254-4505a1f3eb2f"
      },
      "execution_count": 27,
      "outputs": [
        {
          "output_type": "stream",
          "name": "stdout",
          "text": [
            "[152.15608803] \n",
            "\n",
            "[152.35957614]\n"
          ]
        }
      ]
    }
  ]
}